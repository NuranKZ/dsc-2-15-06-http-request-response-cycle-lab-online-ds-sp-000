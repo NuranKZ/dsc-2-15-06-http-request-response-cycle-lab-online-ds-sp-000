{
 "cells": [
  {
   "cell_type": "markdown",
   "metadata": {
    "toc": true
   },
   "source": [
    "<h1>Table of Contents<span class=\"tocSkip\"></span></h1>\n",
    "<div class=\"toc\"><ul class=\"toc-item\"><li><span><a href=\"#Introduction\" data-toc-modified-id=\"Introduction-1\"><span class=\"toc-item-num\">1&nbsp;&nbsp;</span>Introduction</a></span></li><li><span><a href=\"#Objectives\" data-toc-modified-id=\"Objectives-2\"><span class=\"toc-item-num\">2&nbsp;&nbsp;</span>Objectives</a></span></li><li><span><a href=\"#Open-Notify\" data-toc-modified-id=\"Open-Notify-3\"><span class=\"toc-item-num\">3&nbsp;&nbsp;</span>Open Notify</a></span><ul class=\"toc-item\"><li><span><a href=\"#API-endpoints\" data-toc-modified-id=\"API-endpoints-3.1\"><span class=\"toc-item-num\">3.1&nbsp;&nbsp;</span>API endpoints</a></span></li><li><span><a href=\"#Current-location-of-International-Space-Station\" data-toc-modified-id=\"Current-location-of-International-Space-Station-3.2\"><span class=\"toc-item-num\">3.2&nbsp;&nbsp;</span>Current location of International Space Station</a></span></li><li><span><a href=\"#Check-the-next-pass-of-International-space-station-for-a-given-location\" data-toc-modified-id=\"Check-the-next-pass-of-International-space-station-for-a-given-location-3.3\"><span class=\"toc-item-num\">3.3&nbsp;&nbsp;</span>Check the next pass of International space station for a given location</a></span></li><li><span><a href=\"#Finding-the-number-of-people-in-space\" data-toc-modified-id=\"Finding-the-number-of-people-in-space-3.4\"><span class=\"toc-item-num\">3.4&nbsp;&nbsp;</span>Finding the number of people in space</a></span></li></ul></li><li><span><a href=\"#Summary\" data-toc-modified-id=\"Summary-4\"><span class=\"toc-item-num\">4&nbsp;&nbsp;</span>Summary</a></span></li></ul></div>"
   ]
  },
  {
   "cell_type": "markdown",
   "metadata": {},
   "source": [
    "# HTTP Request/Response Cycle - Lab\n",
    "\n",
    "## Introduction \n",
    "\n",
    "In this lab, we shall make use of the `requests` module commands and properties seen in the previous lesson, to extract information for a web service called **\"Open Notify\"** to access NASA's space data. \n",
    "\n",
    "## Objectives\n",
    "\n",
    "You will be able to:\n",
    "\n",
    "* Understand and explain the HTTP Request/Response cycle\n",
    "* Make http requests in Python using the ‘requests’ library"
   ]
  },
  {
   "cell_type": "markdown",
   "metadata": {},
   "source": [
    "## Open Notify \n",
    "\n",
    "[Open Notify](http://open-notify.org/)  is an an open source project to provide a simple programming interface for some of NASA’s awesome data. This takes live raw data from NASA's systems and turn them into APIs related to space and spacecraft. We can access following information from open notify. \n",
    "\n",
    "* Current Location of the International Space Station\n",
    "\n",
    "    * (The ISS is currently over 22.014° N, -101.057° E)\n",
    "\n",
    "* Overhead Pass Predictions for the International Space Station\n",
    "\n",
    "* Number of People in Space\n",
    "\n",
    "    * (There are currently 3 humans in space)\n",
    "    \n",
    "### API endpoints\n",
    "\n",
    "OpenNotify has several API endpoints. \n",
    ">An endpoint is a server route that is used to retrieve different data from the API. \n",
    "\n",
    "For example, the `/comments` endpoint on the Reddit API might retrieve information about comments, whereas the `/users` endpoint might retrieve data about users. To access them, you would add the endpoint to the base url of the API.\n",
    "\n",
    "For the OpenNotify API, we have following end points \n",
    "\n",
    "1. Current Location of the International Space Station `/iss-now.json`\n",
    "2. Overhead Pass Predictions for the International Space Station `/iss-pass.json`    \n",
    "3. Number of People in Space `/astros.json`\n",
    "\n",
    "The json extension simple tells us that the data is being returned in a JSON format.\n",
    "\n",
    "In this lab, we'll be querying a this API to retrieve live data about the International Space Station (ISS). Details on OpenNofity , endpoints, syntax and services it offers can be viewed [Here](http://open-notify.org/Open-Notify-API/)\n",
    "\n",
    "![](iss.jpg)\n",
    "\n"
   ]
  },
  {
   "cell_type": "markdown",
   "metadata": {},
   "source": [
    "### Current location of International Space Station\n",
    "\n",
    "The first endpoint we'll look at on OpenNotify is the` iss-now.json` endpoint (current location of international space station). This endpoint gets the current latitude and longitude of the International Space Station.  Perform following tasks \n",
    "* Make a get request to get the latest position of the international space station from the opennotify api's iss_now endpoint at http://api.open-notify.org/iss-now.json\n",
    "* Check the status code of the response\n",
    "* Interpret the returned code"
   ]
  },
  {
   "cell_type": "code",
   "execution_count": 2,
   "metadata": {},
   "outputs": [
    {
     "name": "stdout",
     "output_type": "stream",
     "text": [
      "200\n",
      "True\n"
     ]
    }
   ],
   "source": [
    "# You Code Here\n",
    "import requests\n",
    "url = 'http://api.open-notify.org/iss-now.json'\n",
    "resp1 = requests.get(url)\n",
    "print(resp1.status_code)\n",
    "print(resp1.status_code == requests.codes.ok)"
   ]
  },
  {
   "cell_type": "code",
   "execution_count": 17,
   "metadata": {},
   "outputs": [
    {
     "data": {
      "text/plain": [
       "bytes"
      ]
     },
     "execution_count": 17,
     "metadata": {},
     "output_type": "execute_result"
    }
   ],
   "source": [
    "# Your comments \n",
    "\n",
    "\n"
   ]
  },
  {
   "cell_type": "markdown",
   "metadata": {},
   "source": [
    "* Print the contents of the response and identify its current location"
   ]
  },
  {
   "cell_type": "code",
   "execution_count": 3,
   "metadata": {},
   "outputs": [
    {
     "data": {
      "text/plain": [
       "dict_keys(['message', 'iss_position', 'timestamp'])"
      ]
     },
     "metadata": {},
     "output_type": "display_data"
    },
    {
     "data": {
      "text/plain": [
       "{'longitude': '-40.8541', 'latitude': '37.1675'}"
      ]
     },
     "metadata": {},
     "output_type": "display_data"
    }
   ],
   "source": [
    "# You Code Here\n",
    "resp1_json = resp1.json()\n",
    "display(resp1_json.keys())\n",
    "display(resp1_json['iss_position'])"
   ]
  },
  {
   "cell_type": "code",
   "execution_count": 4,
   "metadata": {},
   "outputs": [],
   "source": [
    "# Interpret your results using the API"
   ]
  },
  {
   "cell_type": "markdown",
   "metadata": {},
   "source": [
    "### Check the next pass of International space station for a given location"
   ]
  },
  {
   "cell_type": "markdown",
   "metadata": {},
   "source": [
    "Let's repeat the above for the second endpoint `iss_pass.json`. This end point is used to query the next pass of the space station on a given location. Let's just run as above and record your observations"
   ]
  },
  {
   "cell_type": "code",
   "execution_count": 4,
   "metadata": {},
   "outputs": [
    {
     "name": "stdout",
     "output_type": "stream",
     "text": [
      "400\n",
      "False\n",
      "{'message': 'failure', 'reason': 'Latitude must be specified'}\n"
     ]
    }
   ],
   "source": [
    "# You Code Here\n",
    "url = 'http://api.open-notify.org/iss-pass.json'\n",
    "resp2 = requests.get(url)\n",
    "resp2_json = resp2.json()\n",
    "print(resp2.status_code)\n",
    "print(resp2.status_code == requests.codes.ok)\n",
    "print(resp2_json)"
   ]
  },
  {
   "cell_type": "code",
   "execution_count": 6,
   "metadata": {},
   "outputs": [],
   "source": [
    "# Your comments "
   ]
  },
  {
   "cell_type": "markdown",
   "metadata": {},
   "source": [
    "So clearly there is something wrong as we had a 400 response. This is how you should always test your responses for validity. \n",
    "\n",
    "if we look at the documentation for the OpenNotify API, we see that the ISS Pass endpoint requires two parameters.\n",
    "\n",
    "> The ISS Pass endpoint returns when the ISS will next pass over a given location on earth. In order to compute this, we need to pass the coordinates of the location to the API. We do this by passing two parameters -- latitude and longitude.\n",
    "\n",
    "We can do this by adding an optional keyword argument, params, to our request. In this case, there are two parameters we need to pass:\n",
    "\n",
    "* lat -- The latitude of the location we want.\n",
    "* lon -- The longitude of the location we want.\n",
    "\n",
    "Perform the following tasks :\n",
    "* Set parameters to reflect the lat and long of New York  (40.71, -74)\n",
    "* Send a get request to OpenNotify passing in the lat long parameters as k:v pairs in a dictionary\n",
    "* Check the status code and interpret\n",
    "* Print the header information and the returned content"
   ]
  },
  {
   "cell_type": "code",
   "execution_count": 5,
   "metadata": {},
   "outputs": [
    {
     "name": "stdout",
     "output_type": "stream",
     "text": [
      "200\n",
      "True\n",
      "{'Server': 'nginx/1.10.3', 'Date': 'Tue, 02 Jul 2019 12:35:37 GMT', 'Content-Type': 'application/json', 'Content-Length': '519', 'Connection': 'keep-alive', 'Via': '1.1 vegur'}\n",
      "{\n",
      "  \"message\": \"success\", \n",
      "  \"request\": {\n",
      "    \"altitude\": 100, \n",
      "    \"datetime\": 1562068657, \n",
      "    \"latitude\": 40.71, \n",
      "    \"longitude\": -74.0, \n",
      "    \"passes\": 5\n",
      "  }, \n",
      "  \"response\": [\n",
      "    {\n",
      "      \"duration\": 580, \n",
      "      \"risetime\": 1562070255\n",
      "    }, \n",
      "    {\n",
      "      \"duration\": 643, \n",
      "      \"risetime\": 1562076054\n",
      "    }, \n",
      "    {\n",
      "      \"duration\": 555, \n",
      "      \"risetime\": 1562081877\n",
      "    }, \n",
      "    {\n",
      "      \"duration\": 599, \n",
      "      \"risetime\": 1562136167\n",
      "    }, \n",
      "    {\n",
      "      \"duration\": 637, \n",
      "      \"risetime\": 1562141938\n",
      "    }\n",
      "  ]\n",
      "}\n",
      "\n"
     ]
    }
   ],
   "source": [
    "# You Code Here\n",
    "params = {\"lat\":40.71, \"lon\":-74}\n",
    "url = 'http://api.open-notify.org/iss-pass.json'\n",
    "resp3 = requests.get(url, params=params)\n",
    "resp3_json = resp3.json()\n",
    "print(resp3.status_code)\n",
    "print(resp3.status_code == requests.codes.ok)\n",
    "print(dict(resp3.headers))\n",
    "print(resp3.text)"
   ]
  },
  {
   "cell_type": "code",
   "execution_count": 8,
   "metadata": {},
   "outputs": [],
   "source": [
    "# Check the API and interpret your results - when will ISS pass over NEW York next ?"
   ]
  },
  {
   "cell_type": "markdown",
   "metadata": {},
   "source": [
    "### Finding the number of people in space\n",
    "\n",
    "OpenNotify has one more API endpoint, `/astros.json`. It tells you how many people are currently in space. The format of the responses can be studied [HERE](http://open-notify.org/Open-Notify-API/People-In-Space/).\n",
    "\n",
    "Read the above documentation and perform following tasks:\n",
    "\n",
    "* Get the response from astros.json endpoint\n",
    "* Count how many people are currently in space\n",
    "* List the names of people currently in space."
   ]
  },
  {
   "cell_type": "code",
   "execution_count": 13,
   "metadata": {},
   "outputs": [
    {
     "name": "stdout",
     "output_type": "stream",
     "text": [
      "200\n",
      "True\n",
      "{'Server': 'nginx/1.10.3', 'Date': 'Tue, 02 Jul 2019 12:36:59 GMT', 'Content-Type': 'application/json', 'Content-Length': '176', 'Connection': 'keep-alive', 'access-control-allow-origin': '*'}\n",
      "{\"people\": [{\"craft\": \"ISS\", \"name\": \"Alexey Ovchinin\"}, {\"craft\": \"ISS\", \"name\": \"Nick Hague\"}, {\"craft\": \"ISS\", \"name\": \"Christina Koch\"}], \"number\": 3, \"message\": \"success\"}\n",
      "Alexey Ovchinin\n",
      "Nick Hague\n",
      "Christina Koch\n"
     ]
    }
   ],
   "source": [
    "# You Code Here\n",
    "#params = {\"lat\":40.71, \"lon\":-74}\n",
    "url = 'http://api.open-notify.org/astros.json'\n",
    "resp4 = requests.get(url)\n",
    "resp4_json = resp4.json()\n",
    "print(resp4.status_code)\n",
    "print(resp4.status_code == requests.codes.ok)\n",
    "print(dict(resp4.headers))\n",
    "print(resp4.text)\n",
    "for astro in resp4_json['people']:\n",
    "    print(astro['name'])"
   ]
  },
  {
   "cell_type": "code",
   "execution_count": 10,
   "metadata": {},
   "outputs": [],
   "source": [
    "# Interpret the Results - How many people are in space and what are their names "
   ]
  },
  {
   "cell_type": "markdown",
   "metadata": {},
   "source": [
    "## Summary \n",
    "\n",
    "In this lesson we saw how we can use request and response methods to query an Open API. We also saw how to look at the contents returned with the API calls and how to parse them. Next we shall look at connecting to APIs which are not OPEN , i.e. we would need to paass in some authentication information and filter the results. "
   ]
  }
 ],
 "metadata": {
  "kernelspec": {
   "display_name": "Python 3",
   "language": "python",
   "name": "python3"
  },
  "language_info": {
   "codemirror_mode": {
    "name": "ipython",
    "version": 3
   },
   "file_extension": ".py",
   "mimetype": "text/x-python",
   "name": "python",
   "nbconvert_exporter": "python",
   "pygments_lexer": "ipython3",
   "version": "3.6.6"
  },
  "toc": {
   "base_numbering": 1,
   "nav_menu": {},
   "number_sections": true,
   "sideBar": true,
   "skip_h1_title": true,
   "title_cell": "Table of Contents",
   "title_sidebar": "Contents",
   "toc_cell": true,
   "toc_position": {},
   "toc_section_display": true,
   "toc_window_display": false
  },
  "varInspector": {
   "cols": {
    "lenName": 16,
    "lenType": 16,
    "lenVar": 40
   },
   "kernels_config": {
    "python": {
     "delete_cmd_postfix": "",
     "delete_cmd_prefix": "del ",
     "library": "var_list.py",
     "varRefreshCmd": "print(var_dic_list())"
    },
    "r": {
     "delete_cmd_postfix": ") ",
     "delete_cmd_prefix": "rm(",
     "library": "var_list.r",
     "varRefreshCmd": "cat(var_dic_list()) "
    }
   },
   "types_to_exclude": [
    "module",
    "function",
    "builtin_function_or_method",
    "instance",
    "_Feature"
   ],
   "window_display": false
  }
 },
 "nbformat": 4,
 "nbformat_minor": 2
}
